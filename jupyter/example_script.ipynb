{
 "cells": [
  {
   "cell_type": "code",
   "execution_count": 3,
   "metadata": {},
   "outputs": [],
   "source": [
    "import sys, torch, os, time, imp\n",
    "sys.path.insert(0, \"/home/marius/dm11/spikes/kilosort4/\")\n",
    "import numpy as np\n",
    "import preprocessing, datashift, template_matching, clustering, CCG, clustering_qr, swarmsplitter\n",
    "dev = torch.device('cuda')\n",
    "\n",
    "#ops = np.load('ops.npy', allow_pickle = True).item()\n"
   ]
  },
  {
   "cell_type": "code",
   "execution_count": 2,
   "metadata": {},
   "outputs": [
    {
     "name": "stderr",
     "output_type": "stream",
     "text": [
      "/home/marius/dm11/spikes/kilosort4/preprocessing.py:98: UserWarning: The given NumPy array is not writable, and PyTorch does not support non-writable tensors. This means writing to this tensor will result in undefined behavior. You may want to copy the array to protect its data or make it writable before converting it to a tensor. This type of warning will be suppressed for the rest of this program. (Triggered internally at  /opt/conda/conda-bld/pytorch_1659484810403/work/torch/csrc/utils/tensor_numpy.cpp:172.)\n",
      "  X[:, nt:nt+nsamp] = torch.from_numpy(data).to(dev).float()\n"
     ]
    }
   ],
   "source": [
    "ops = {}\n",
    "ops['root_config']   = '/media/marius/ssd1/github/Kilosort/configFiles'\n",
    "ops['root_bin'] = '/media/marius/ssd1/data/spikes/Hopkins'\n",
    "ops['config_fname']  = 'neuropixPhase3A_kilosortChanMap.mat'\n",
    "ops['NchanTOT'] = 385\n",
    "ops['fs']       = 30000\n",
    "\n",
    "ops['nt']     =  61\n",
    "ops['Th']       = 6\n",
    "ops['spkTh']    = 10\n",
    "ops['nwaves']   = 6\n",
    "ops['nskip']    = 25\n",
    "ops['nt0min']   = int(20 * ops['nt']/61)\n",
    "ops['NT']       = 2 * ops['fs']\n",
    "ops['nblocks']  = 5\n",
    "ops['binning_depth'] = 5\n",
    "ops['sig_interp'] = 20\n",
    "\n",
    "# return iclust, Wall, st, is_refractory\n"
   ]
  },
  {
   "cell_type": "code",
   "execution_count": 4,
   "metadata": {},
   "outputs": [
    {
     "ename": "KeyboardInterrupt",
     "evalue": "",
     "output_type": "error",
     "traceback": [
      "\u001b[0;31m---------------------------------------------------------------------------\u001b[0m",
      "\u001b[0;31mKeyboardInterrupt\u001b[0m                         Traceback (most recent call last)",
      "\u001b[1;32mz:\\spikes\\kilosort4\\template_matching.ipynb Cell 3\u001b[0m in \u001b[0;36m<cell line: 3>\u001b[0;34m()\u001b[0m\n\u001b[1;32m      <a href='vscode-notebook-cell:/z%3A/spikes/kilosort4/template_matching.ipynb#W2sZmlsZQ%3D%3D?line=0'>1</a>\u001b[0m \u001b[39m#ops['Nbatches'] = 600\u001b[39;00m\n\u001b[0;32m----> <a href='vscode-notebook-cell:/z%3A/spikes/kilosort4/template_matching.ipynb#W2sZmlsZQ%3D%3D?line=2'>3</a>\u001b[0m ops  \u001b[39m=\u001b[39m datashift\u001b[39m.\u001b[39;49mrun(ops)\n\u001b[1;32m      <a href='vscode-notebook-cell:/z%3A/spikes/kilosort4/template_matching.ipynb#W2sZmlsZQ%3D%3D?line=4'>5</a>\u001b[0m ops[\u001b[39m'\u001b[39m\u001b[39mU\u001b[39m\u001b[39m'\u001b[39m]         \u001b[39m=\u001b[39m template_matching\u001b[39m.\u001b[39mrun(ops)\n\u001b[1;32m      <a href='vscode-notebook-cell:/z%3A/spikes/kilosort4/template_matching.ipynb#W2sZmlsZQ%3D%3D?line=5'>6</a>\u001b[0m st, tF, tF2, ops \u001b[39m=\u001b[39m template_matching\u001b[39m.\u001b[39mextract(ops, ops[\u001b[39m'\u001b[39m\u001b[39mU\u001b[39m\u001b[39m'\u001b[39m])\n",
      "File \u001b[0;32m~/dm11/spikes/kilosort4/datashift.py:126\u001b[0m, in \u001b[0;36mrun\u001b[0;34m(ops)\u001b[0m\n\u001b[1;32m    125\u001b[0m \u001b[39mdef\u001b[39;00m \u001b[39mrun\u001b[39m(ops):\n\u001b[0;32m--> 126\u001b[0m     st, tF, ops  \u001b[39m=\u001b[39m spikedetect\u001b[39m.\u001b[39;49mrun(ops)\n\u001b[1;32m    127\u001b[0m     F, ysamp \u001b[39m=\u001b[39m bin_spikes(ops, st)\n\u001b[1;32m    128\u001b[0m     imin, yblk, F0, F0m \u001b[39m=\u001b[39m align_block2(F, ysamp, ops)\n",
      "File \u001b[0;32m~/dm11/spikes/kilosort4/spikedetect.py:168\u001b[0m, in \u001b[0;36mrun\u001b[0;34m(ops, dshift)\u001b[0m\n\u001b[1;32m    165\u001b[0m \u001b[39mfor\u001b[39;00m j \u001b[39min\u001b[39;00m \u001b[39mrange\u001b[39m(ops[\u001b[39m'\u001b[39m\u001b[39mNbatches\u001b[39m\u001b[39m'\u001b[39m]):\n\u001b[1;32m    166\u001b[0m     X \u001b[39m=\u001b[39m preprocessing\u001b[39m.\u001b[39mload_transform(ops[\u001b[39m'\u001b[39m\u001b[39mfilename\u001b[39m\u001b[39m'\u001b[39m], j, ops, fwav \u001b[39m=\u001b[39m ops[\u001b[39m'\u001b[39m\u001b[39mfwav\u001b[39m\u001b[39m'\u001b[39m], \n\u001b[1;32m    167\u001b[0m                         Wrot \u001b[39m=\u001b[39m ops[\u001b[39m'\u001b[39m\u001b[39mWrot\u001b[39m\u001b[39m'\u001b[39m], dshift \u001b[39m=\u001b[39m dshift)\n\u001b[0;32m--> 168\u001b[0m     xy, imax, amp, adist \u001b[39m=\u001b[39m template_match(X, ops, iC, iC2, weigh)\n\u001b[1;32m    169\u001b[0m     yct \u001b[39m=\u001b[39m yweighted(yc, iC, adist, xy)\n\u001b[1;32m    170\u001b[0m     nsp \u001b[39m=\u001b[39m \u001b[39mlen\u001b[39m(xy)\n",
      "File \u001b[0;32m~/dm11/spikes/kilosort4/spikedetect.py:111\u001b[0m, in \u001b[0;36mtemplate_match\u001b[0;34m(X, ops, iC, iC2, weigh)\u001b[0m\n\u001b[1;32m    109\u001b[0m Amaxs[:,\u001b[39m-\u001b[39mnt:] \u001b[39m=\u001b[39m \u001b[39m0\u001b[39m\n\u001b[1;32m    110\u001b[0m Amaxs  \u001b[39m=\u001b[39m max_pool1d(Amaxs\u001b[39m.\u001b[39munsqueeze(\u001b[39m0\u001b[39m), (\u001b[39m2\u001b[39m\u001b[39m*\u001b[39mnt0\u001b[39m+\u001b[39m\u001b[39m1\u001b[39m), stride \u001b[39m=\u001b[39m \u001b[39m1\u001b[39m, padding \u001b[39m=\u001b[39m nt0)\u001b[39m.\u001b[39msqueeze(\u001b[39m0\u001b[39m)\n\u001b[0;32m--> 111\u001b[0m xy \u001b[39m=\u001b[39m torch\u001b[39m.\u001b[39;49mlogical_and(Amaxs\u001b[39m==\u001b[39;49mAs, As \u001b[39m>\u001b[39;49m ops[\u001b[39m'\u001b[39;49m\u001b[39mspkTh\u001b[39;49m\u001b[39m'\u001b[39;49m])\u001b[39m.\u001b[39;49mnonzero()\n\u001b[1;32m    112\u001b[0m imax \u001b[39m=\u001b[39m imaxs[xy[:,\u001b[39m0\u001b[39m], xy[:,\u001b[39m1\u001b[39m]]\n\u001b[1;32m    113\u001b[0m amp \u001b[39m=\u001b[39m As[xy[:,\u001b[39m0\u001b[39m], xy[:,\u001b[39m1\u001b[39m]]\n",
      "\u001b[0;31mKeyboardInterrupt\u001b[0m: "
     ]
    }
   ],
   "source": [
    "ops  = preprocessing.run(ops)\n",
    "ops  = datashift.run(ops)\n",
    "ops['U']         = template_matching.run(ops)\n",
    "st, tF, tF2, ops = template_matching.extract(ops, ops['U'])\n",
    "iclust, Wall  = clustering_qr.run(ops, st, tF)\n",
    "is_refractory = CCG.refract(iclust, st[:,0])\n"
   ]
  }
 ],
 "metadata": {
  "kernelspec": {
   "display_name": "Python 3 (ipykernel)",
   "language": "python",
   "name": "python3"
  },
  "orig_nbformat": 4,
  "vscode": {
   "interpreter": {
    "hash": "dc0dcb2e1035a1eaeb79ee85a69484765f8dd01949d6a8096065977df5bad6a2"
   }
  }
 },
 "nbformat": 4,
 "nbformat_minor": 2
}
