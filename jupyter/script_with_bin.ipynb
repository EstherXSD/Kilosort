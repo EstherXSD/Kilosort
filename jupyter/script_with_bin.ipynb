{
 "cells": [
  {
   "cell_type": "code",
   "execution_count": 1,
   "metadata": {
    "pycharm": {
     "is_executing": true
    }
   },
   "outputs": [],
   "source": [
    "import sys, torch, os, time, importlib\n",
    "import numpy as np\n",
    "from kilosort import preprocessing, datashift, template_matching, clustering_qr, CCG, clustering_qr, swarmsplitter, spikedetect, run_kilosort\n"
   ]
  },
  {
   "cell_type": "code",
   "execution_count": 2,
   "metadata": {},
   "outputs": [],
   "source": [
    "settings = {}\n",
    "settings['data_folder'] = \"/mnt/sorting/kstest/\"\n",
    "settings['probe_path']  = \"/mnt/sorting/kstest/neuropixPhase3A_kilosortChanMap.mat\"\n",
    "settings['n_chan_bin'] = 385\n",
    "settings['fs']       = 30000\n",
    "settings['nt']     =  61\n",
    "settings['Th']       = 6\n",
    "settings['spkTh']    = 10\n",
    "settings['nwaves']   = 6\n",
    "settings['nskip']    = 25\n",
    "settings['nt0min']   = int(20 * settings['nt']/61)\n",
    "settings['NT']       = 2 * settings['fs']\n",
    "settings['nblocks']  = 5\n",
    "settings['binning_depth'] = 5\n",
    "settings['sig_interp'] = 20\n"
   ]
  },
  {
   "cell_type": "markdown",
   "metadata": {
    "tags": []
   },
   "source": [
    "np.random.seed(1)\n",
    "torch.cuda.manual_seed_all(1)\n",
    "torch.random.manual_seed(1)\n",
    "from kilosort import io\n",
    "importlib.reload(io)\n",
    "importlib.reload(preprocessing)\n",
    "importlib.reload(spikedetect)\n",
    "importlib.reload(template_matching)\n",
    "importlib.reload(datashift)\n",
    "importlib.reload(clustering_qr)\n",
    "importlib.reload(run_kilosort)\n",
    "\n",
    "probe = io.load_probe(settings['probe_path'])\n",
    "ops, st, tF, iclust, Wall, is_refractory = run_kilosort.run_kilosort(settings=settings, probe=probe)\n"
   ]
  },
  {
   "cell_type": "code",
   "execution_count": 3,
   "metadata": {},
   "outputs": [],
   "source": [
    "from kilosort import io \n",
    "importlib.reload(preprocessing)\n",
    "importlib.reload(io)\n",
    "\n",
    "root = settings['data_folder']\n",
    "filename = os.path.join(root, 'smallfile.bin')\n",
    "\n",
    "probe = io.load_probe(os.path.join(root, 'neuropixPhase3A_kilosortChanMap.mat'))\n",
    "channel_map = probe['chanMap']\n",
    "x_chan = probe['xc']\n",
    "y_chan = probe['yc']\n",
    "\n",
    "fs = settings['fs']\n",
    "n_chan_bin = settings['n_chan_bin']\n",
    "nskip = settings['nskip']\n",
    "\n",
    "tstart = 5000 \n",
    "tend = 7000\n",
    "\n",
    "#device=torch.device('cpu')\n",
    "device=torch.device('cuda')"
   ]
  },
  {
   "cell_type": "code",
   "execution_count": 4,
   "metadata": {},
   "outputs": [
    {
     "name": "stderr",
     "output_type": "stream",
     "text": [
      "/home/shashwat/repositories/kilosort_dev/kilosort/io.py:351: UserWarning: The given NumPy array is not writable, and PyTorch does not support non-writable tensors. This means writing to this tensor will result in undefined behavior. You may want to copy the array to protect its data or make it writable before converting it to a tensor. This type of warning will be suppressed for the rest of this program. (Triggered internally at ../torch/csrc/utils/tensor_numpy.cpp:199.)\n",
      "  X = torch.from_numpy(samples.T).to(self.device).float()\n"
     ]
    }
   ],
   "source": [
    "# load some example data unfiltered (but mean and median subtracted)\n",
    "with io.BinaryFiltered(filename, n_chan_bin=n_chan_bin, fs=fs, channel_map=channel_map, device=device) as bfile:\n",
    "    data_raw = bfile[tstart : tend].cpu().numpy()"
   ]
  },
  {
   "cell_type": "code",
   "execution_count": 5,
   "metadata": {},
   "outputs": [],
   "source": [
    "# compute filters (only needs to happen once and be saved)\n",
    "hp_filter = preprocessing.get_highpass_filter(fs, device=device)\n",
    "with io.BinaryFiltered(filename, n_chan_bin=n_chan_bin, fs=fs, channel_map=channel_map,\n",
    "                        hp_filter=hp_filter, device=device) as bfile:\n",
    "    whiten_mat = preprocessing.get_whitening_matrix(bfile, x_chan, y_chan, \n",
    "                                                        nskip = nskip)"
   ]
  },
  {
   "cell_type": "code",
   "execution_count": 6,
   "metadata": {},
   "outputs": [],
   "source": [
    "# load example data and filter\n",
    "with io.BinaryFiltered(filename, n_chan_bin=n_chan_bin,  fs=fs, channel_map=channel_map, \n",
    "                        hp_filter=hp_filter, whiten_mat=whiten_mat, device=device) as bfile:\n",
    "    data_filt = bfile[tstart : tend].cpu().numpy()"
   ]
  },
  {
   "cell_type": "code",
   "execution_count": 7,
   "metadata": {},
   "outputs": [
    {
     "name": "stdout",
     "output_type": "stream",
     "text": [
      "True\n"
     ]
    },
    {
     "data": {
      "text/plain": [
       "(384, 10)"
      ]
     },
     "execution_count": 7,
     "metadata": {},
     "output_type": "execute_result"
    }
   ],
   "source": [
    "to_display = [i for i in range(data_raw.shape[0])]\n",
    "print(all([isinstance(i, int) for i in to_display]))\n",
    "data_filt[to_display, 10:20].shape"
   ]
  },
  {
   "cell_type": "code",
   "execution_count": null,
   "metadata": {},
   "outputs": [],
   "source": [
    "print(type(data_filt))"
   ]
  },
  {
   "cell_type": "code",
   "execution_count": null,
   "metadata": {},
   "outputs": [],
   "source": [
    "import matplotlib.pyplot as plt\n",
    "plt.figure(figsize=(12,12))\n",
    "plt.subplot(2,1,1)\n",
    "plt.imshow(data_raw, aspect='auto', vmin=-40, vmax=40, cmap='bwr')\n",
    "plt.subplot(2,1,2)\n",
    "plt.imshow(data_filt, aspect='auto', vmin=-5, vmax=5, cmap='bwr')"
   ]
  },
  {
   "cell_type": "code",
   "execution_count": null,
   "metadata": {},
   "outputs": [],
   "source": [
    "sorting /media/carsen/ssd3/spikesorting/kstest/Hopkins_probe00_lil.bin\n",
    "0.5216231346130371\n",
    "28.16948699951172\n",
    "95 95 0.0 9088 1.0\n",
    "182 93 6410.0 6961 0.9382675886154175\n",
    "259 95 11270.0 4974 0.9135704040527344\n",
    "325 93 10781.0 3048 0.9121253490447998\n",
    "362 95 15942.0 3667 0.892087459564209\n",
    "396 94 13479.0 2314 0.8960741758346558\n",
    "411 94 13269.0 2389 0.9001560807228088\n",
    "407 94 16949.0 3243 0.8861321210861206\n",
    "407 94 14217.0 2201 0.8897771835327148\n",
    "415 95 15811.0 2395 0.8831503391265869\n",
    "423 95 18406.0 3325 0.8790006637573242\n",
    "420 95 15438.0 2196 0.8871212005615234\n",
    "422 93 16065.0 2053 0.8814165592193604\n",
    "422 95 13556.0 1904 0.8914451003074646\n",
    "425 95 15562.0 2030 0.8840786814689636\n",
    "406 93 15166.0 1995 0.8875391483306885\n",
    "397 94 12212.0 1614 0.885621190071106\n",
    "397 92 16179.0 2032 0.8826791048049927\n",
    "392 93 15743.0 1994 0.8847112655639648\n",
    "404 94 15868.0 1842 0.8832195401191711\n",
    "410 93 14277.0 1810 0.8859168291091919\n",
    "409 94 17708.0 2416 0.8737927675247192\n",
    "416 93 15803.0 1985 0.8827481269836426\n",
    "410 94 14156.0 1751 0.8895689249038696\n",
    "403 93 17161.0 2252 0.8749827742576599\n",
    "411 95 14394.0 1655 0.8873156309127808\n",
    "395 94 14424.0 1705 0.8867697715759277\n",
    "410 94 14369.0 1761 0.8846805095672607\n",
    "413 93 16110.0 2068 0.8772283792495728\n",
    "403 94 14792.0 1796 0.885819673538208\n",
    "407 95 16168.0 2105 0.8819477558135986\n",
    "315 15997.0 1836 0.879417359828949\n",
    "266 16288.0 2145 0.87995445728302\n",
    "246 14555.0 1950 0.8845446109771729\n",
    "238 18433.0 2618 0.8702524900436401\n",
    "237 15227.0 2048 0.8811249732971191\n",
    "236 15984.0 2059 0.8784278631210327\n",
    "235 14320.0 1802 0.8859401941299438\n",
    "234 15123.0 1821 0.8824591636657715\n",
    "234 15843.0 1973 0.8772786259651184\n",
    "0\n",
    "0 6 0.34157443046569824\n",
    "10 42 3.874079942703247\n",
    "20 72 6.716186285018921\n",
    "40 158 12.755425691604614\n",
    "50 165 14.007964372634888\n",
    "60 211 16.349457263946533\n",
    "80 268 20.716758966445923\n",
    "90 357 24.657107830047607\n",
    "0 1.0\n",
    "100 69.0\n",
    "200 135.0\n",
    "300 199.0\n",
    "380 247.0"
   ]
  }
 ],
 "metadata": {
  "kernelspec": {
   "display_name": "Python 3 (ipykernel)",
   "language": "python",
   "name": "python3"
  },
  "language_info": {
   "codemirror_mode": {
    "name": "ipython",
    "version": 3
   },
   "file_extension": ".py",
   "mimetype": "text/x-python",
   "name": "python",
   "nbconvert_exporter": "python",
   "pygments_lexer": "ipython3",
   "version": "3.10.8"
  },
  "vscode": {
   "interpreter": {
    "hash": "095257a7d1636c913990cddebeaebf9268713f0b712df2f428b26fbdb9f6b97d"
   }
  }
 },
 "nbformat": 4,
 "nbformat_minor": 4
}
