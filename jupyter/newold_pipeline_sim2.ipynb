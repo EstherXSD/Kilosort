{
 "cells": [
  {
   "cell_type": "code",
   "execution_count": null,
   "metadata": {},
   "outputs": [],
   "source": [
    "import sys, torch, os, time, imp\n",
    "#sys.path.insert(0, \"/home/marius/dm11/spikes/kilosort4/\")\n",
    "sys.path.insert(0, \"/home/marius/dm11/spikes/kilosort_dev/\")\n",
    "import numpy as np\n",
    "from kilosort import run_kilosort, io\n",
    "import matplotlib.pyplot as plt\n",
    "\n",
    "dev = torch.device('cuda:0')\n"
   ]
  },
  {
   "cell_type": "code",
   "execution_count": null,
   "metadata": {},
   "outputs": [],
   "source": [
    "ops = {}\n",
    "ops['root_config']   = '/media/marius/ssd1/github/Kilosort/configFiles'\n",
    "\n",
    "ops['data_folder'] = '/media/marius/ssd1/data/spikes/sim_high_drift'\n",
    "ops['config_fname']  = 'neuropixPhase3B1_kilosortChanMap.mat'\n",
    "\n",
    "#ops['root_bin'] = '/media/marius/ssd1/data/spikes/Hopkins'\n",
    "#ops['config_fname']  = 'neuropixPhase3A_kilosortChanMap.mat'\n",
    "\n",
    "#ops['root_bin'] = '/media/marius/ssd1/data/spikes/ZAD29'\n",
    "#ops['config_fname']  = 'neuropixPhase3B1_kilosortChanMap.mat'\n",
    "\n",
    "ops['NchanTOT'] = 385\n",
    "ops['fs']       = 30000\n",
    "\n",
    "ops['nt']     =  61\n",
    "ops['Th']       = 8\n",
    "ops['spkTh']    = 8\n",
    "ops['Th_detect']    = 9\n",
    "\n",
    "ops['nwaves']   = 6\n",
    "ops['nskip']    = 25\n",
    "ops['nt0min']   = int(20 * ops['nt']/61)\n",
    "ops['NT']       = 2 * ops['fs']\n",
    "ops['nblocks']  = 5\n",
    "ops['binning_depth'] = 5\n",
    "ops['sig_interp'] = 20\n",
    "\n",
    "probe  = io.load_probe(os.path.join(ops['root_config'], ops['config_fname']))\n",
    "settings = ops \n",
    "\n",
    "t0= time.time()"
   ]
  },
  {
   "cell_type": "code",
   "execution_count": null,
   "metadata": {},
   "outputs": [],
   "source": [
    "ops, st, tF, clu, Wall, is_ref = run_kilosort.run_kilosort(settings, probe, ops['data_folder'])"
   ]
  },
  {
   "cell_type": "code",
   "execution_count": null,
   "metadata": {},
   "outputs": [],
   "source": [
    "from kilosort import bench\n",
    "\n",
    "gt_path = os.path.join(ops['data_folder'] , \"sim.imec0.ap_params.npz\")\n",
    "st_gt, clu_gt, yclu_gt, mu_gt, Wsub, nsp = bench.load_GT(ops, gt_path, nmax = 600)\n",
    "\n",
    "st_new, clu_new, yclu_new, Wsub_new = bench.convert_ks_output(ops, st, clu)\n",
    "\n",
    "fmax, fmiss, fpos = bench.compare_recordings(st_gt, clu_gt, yclu_gt, st_new, clu_new, yclu_new)"
   ]
  },
  {
   "cell_type": "code",
   "execution_count": null,
   "metadata": {},
   "outputs": [],
   "source": [
    "fpath ='/home/marius/dm11_stringer/spiking/sim_high_drift/outputs/ironclust'\n",
    "st_new, clu_new, yclu_new, Wsub = bench.load_phy(fpath, ops)\n",
    "\n",
    "fmax, fmiss, fpos = bench.compare_recordings(st_gt, clu_gt, yclu_gt, st_new, clu_new, yclu_new)\n",
    "\n"
   ]
  },
  {
   "cell_type": "code",
   "execution_count": null,
   "metadata": {},
   "outputs": [],
   "source": [
    "kk = 0\n",
    "#kk += 1\n",
    "print(kk, (clu==kk).sum())\n",
    "\n",
    "import matplotlib.pyplot as plt \n",
    "\n",
    "wav = ops['wPCA'].cpu().numpy().T @ Wsub_new[kk]\n",
    "print((wav**2).sum()**.5)\n",
    "plt.plot(wav);"
   ]
  },
  {
   "cell_type": "code",
   "execution_count": null,
   "metadata": {},
   "outputs": [],
   "source": [
    "plt.figure(figsize=(18, 8))\n",
    "\n",
    "plt.subplot(2,4,1)\n",
    "plt.plot(np.sort(fmax)[::-1])\n",
    "print((fmax>.8).sum())\n",
    "\n",
    "plt.subplot(2,4,2)\n",
    "plt.semilogx(nsp, fmax, 'o')\n",
    "\n",
    "plt.subplot(2,4,3)\n",
    "plt.semilogx(mu_gt, fmiss, 'o')\n",
    "\n",
    "plt.subplot(2,4,4)\n",
    "plt.semilogx(mu_gt, fpos, 'o')\n",
    "\n",
    "plt.subplot(2,4,5)\n",
    "plt.semilogx(mu_gt, fmax, 'o')"
   ]
  },
  {
   "cell_type": "code",
   "execution_count": null,
   "metadata": {},
   "outputs": [],
   "source": [
    "unq_clu, nsp = np.unique(clu_gt, return_counts = True)\n",
    "np.abs(np.diff(unq_clu) - 1).sum()"
   ]
  },
  {
   "cell_type": "code",
   "execution_count": null,
   "metadata": {},
   "outputs": [],
   "source": []
  }
 ],
 "metadata": {
  "kernelspec": {
   "display_name": "Python 3 (ipykernel)",
   "language": "python",
   "name": "python3"
  },
  "language_info": {
   "codemirror_mode": {
    "name": "ipython",
    "version": 3
   },
   "file_extension": ".py",
   "mimetype": "text/x-python",
   "name": "python",
   "nbconvert_exporter": "python",
   "pygments_lexer": "ipython3",
   "version": "3.8.13"
  },
  "orig_nbformat": 4,
  "vscode": {
   "interpreter": {
    "hash": "3a3d8ce103517c0eff4a4cdd3845d26e3393bafb2f4718f9c642b57a28f3097f"
   }
  }
 },
 "nbformat": 4,
 "nbformat_minor": 2
}
