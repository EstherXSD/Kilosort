{
 "cells": [
  {
   "cell_type": "code",
   "execution_count": 4,
   "metadata": {},
   "outputs": [],
   "source": [
    "import sys, torch, os, time, imp\n",
    "sys.path.insert(0, \"/home/marius/dm11/spikes/kilosort4/\")\n",
    "#sys.path.insert(0, \"/home/marius/dm11/spikes/kilosort_dev/kilosort\")\n",
    "import numpy as np\n",
    "import preprocessing, datashift, template_matching, CCG, clustering_qr, spikedetect\n",
    "import matplotlib.pyplot as plt\n",
    "\n",
    "dev = torch.device('cuda:0')\n"
   ]
  },
  {
   "cell_type": "code",
   "execution_count": 11,
   "metadata": {},
   "outputs": [],
   "source": [
    "imp.reload(preprocessing)\n",
    "\n",
    "ops = {}\n",
    "ops['root_config']   = '/media/marius/ssd1/github/Kilosort/configFiles'\n",
    "\n",
    "ops['root_bin'] = '/media/marius/ssd1/data/spikes/sim'\n",
    "\n",
    "ops['root_bin'] = '/media/marius/ssd1/data/spikes/Hopkins'\n",
    "ops['config_fname']  = 'neuropixPhase3A_kilosortChanMap.mat'\n",
    "\n",
    "#ops['root_bin'] = '/media/marius/ssd1/data/spikes/ZAD29'\n",
    "#ops['config_fname']  = 'neuropixPhase3B1_kilosortChanMap.mat'\n",
    "\n",
    "ops['NchanTOT'] = 385\n",
    "ops['fs']       = 30000\n",
    "\n",
    "ops['nt']     =  61\n",
    "ops['Th']       = 9\n",
    "ops['spkTh']    = 9\n",
    "ops['spkTh_dshift']    = 9\n",
    "\n",
    "ops['nwaves']   = 6\n",
    "ops['nskip']    = 25\n",
    "ops['nt0min']   = int(20 * ops['nt']/61)\n",
    "ops['NT']       = 2 * ops['fs']\n",
    "ops['nblocks']  = 5\n",
    "ops['binning_depth'] = 5\n",
    "ops['sig_interp'] = 20\n",
    "\n",
    "t0= time.time()\n"
   ]
  },
  {
   "cell_type": "code",
   "execution_count": 12,
   "metadata": {},
   "outputs": [],
   "source": [
    "\n",
    "ops         = preprocessing.run(ops)"
   ]
  },
  {
   "cell_type": "code",
   "execution_count": 14,
   "metadata": {},
   "outputs": [
    {
     "data": {
      "text/plain": [
       "1887"
      ]
     },
     "execution_count": 14,
     "metadata": {},
     "output_type": "execute_result"
    }
   ],
   "source": [
    "ops['Nbatches']"
   ]
  },
  {
   "cell_type": "code",
   "execution_count": 15,
   "metadata": {},
   "outputs": [
    {
     "name": "stdout",
     "output_type": "stream",
     "text": [
      "516.1763844490051\n"
     ]
    }
   ],
   "source": [
    "ops          = preprocessing.run(ops)\n",
    "#ops['Nbatches'] = 1400\n",
    "\n",
    "ops         = datashift.run(ops)\n",
    "\n",
    "st0, tF, ops  = spikedetect.run(ops, dshift=ops['dshift'])\n",
    "\n",
    "tF          = torch.from_numpy(tF)\n",
    "\n",
    "clu, Wall   = clustering_qr.run(ops, st0, tF, mode = 'spikes') \n",
    "\n",
    "Wall3       = clustering_qr.postprocess_templates(Wall, ops)\n",
    "\n",
    "Wall3       = template_matching.postprocess_templates(Wall, ops)\n",
    "\n",
    "st, tF, tF2, ops = template_matching.extract(ops, Wall3)\n",
    "\n",
    "clu, Wall   = clustering_qr.run(ops, st, tF,  mode = 'template')\n",
    "\n",
    "is_ref = CCG.refract(clu, st[:,0])"
   ]
  },
  {
   "cell_type": "code",
   "execution_count": 146,
   "metadata": {},
   "outputs": [],
   "source": [
    "np.savez('/media/marius/ssd1/data/spikes/ZAD29/ks4_aligned.npz', st = st, clu = clu)"
   ]
  },
  {
   "cell_type": "code",
   "execution_count": 9,
   "metadata": {},
   "outputs": [
    {
     "name": "stdout",
     "output_type": "stream",
     "text": [
      "0 1.0\n",
      "100 55.0\n",
      "200 99.0\n",
      "300 134.0\n",
      "400 164.0\n",
      "500 206.0\n",
      "600 222.0\n",
      "619 224.0\n"
     ]
    },
    {
     "data": {
      "text/plain": [
       "(620, 224.0)"
      ]
     },
     "execution_count": 9,
     "metadata": {},
     "output_type": "execute_result"
    }
   ],
   "source": [
    "is_ref = CCG.refract(clu, st[:,0])\n",
    "len(is_ref[0]), is_ref[0].sum()"
   ]
  },
  {
   "cell_type": "code",
   "execution_count": 91,
   "metadata": {},
   "outputs": [
    {
     "name": "stdout",
     "output_type": "stream",
     "text": [
      "0 0.0\n",
      "100 57.0\n",
      "200 102.0\n",
      "300 138.0\n",
      "400 179.0\n",
      "500 215.0\n",
      "600 244.0\n",
      "654 247.0\n"
     ]
    },
    {
     "data": {
      "text/plain": [
       "(655, 247.0)"
      ]
     },
     "execution_count": 91,
     "metadata": {},
     "output_type": "execute_result"
    }
   ],
   "source": [
    "is_ref = CCG.refract(clu, st[:,0])\n",
    "len(is_ref[0]), is_ref[0].sum()"
   ]
  },
  {
   "cell_type": "code",
   "execution_count": 79,
   "metadata": {},
   "outputs": [
    {
     "name": "stdout",
     "output_type": "stream",
     "text": [
      "0 0.0\n",
      "100 49.0\n",
      "200 91.0\n",
      "300 123.0\n",
      "364 137.0\n"
     ]
    },
    {
     "data": {
      "text/plain": [
       "(365, 137.0)"
      ]
     },
     "execution_count": 79,
     "metadata": {},
     "output_type": "execute_result"
    }
   ],
   "source": [
    "is_ref = CCG.refract(clu, st[:,0])\n",
    "len(is_ref[0]), is_ref[0].sum()"
   ]
  },
  {
   "cell_type": "code",
   "execution_count": 68,
   "metadata": {},
   "outputs": [
    {
     "name": "stdout",
     "output_type": "stream",
     "text": [
      "0 0.0\n",
      "100 58.0\n",
      "200 101.0\n",
      "300 136.0\n",
      "400 185.0\n",
      "468 197.0\n"
     ]
    },
    {
     "data": {
      "text/plain": [
       "(469, 197.0)"
      ]
     },
     "execution_count": 68,
     "metadata": {},
     "output_type": "execute_result"
    }
   ],
   "source": [
    "is_ref = CCG.refract(clu, st[:,0])\n",
    "len(is_ref[0]), is_ref[0].sum()"
   ]
  },
  {
   "cell_type": "code",
   "execution_count": 51,
   "metadata": {},
   "outputs": [
    {
     "name": "stdout",
     "output_type": "stream",
     "text": [
      "0 1.0\n",
      "100 57.0\n",
      "200 104.0\n",
      "300 131.0\n",
      "400 173.0\n",
      "500 206.0\n",
      "600 249.0\n",
      "700 258.0\n",
      "704 258.0\n"
     ]
    },
    {
     "data": {
      "text/plain": [
       "(705, 258.0)"
      ]
     },
     "execution_count": 51,
     "metadata": {},
     "output_type": "execute_result"
    }
   ],
   "source": [
    "is_ref = CCG.refract(clu, st[:,0])\n",
    "len(is_ref[0]), is_ref[0].sum()"
   ]
  },
  {
   "cell_type": "code",
   "execution_count": 46,
   "metadata": {},
   "outputs": [
    {
     "name": "stdout",
     "output_type": "stream",
     "text": [
      "0 1.0\n",
      "100 58.0\n",
      "200 103.0\n",
      "300 136.0\n",
      "400 180.0\n",
      "500 214.0\n",
      "600 243.0\n",
      "658 244.0\n"
     ]
    },
    {
     "data": {
      "text/plain": [
       "(659, 244.0)"
      ]
     },
     "execution_count": 46,
     "metadata": {},
     "output_type": "execute_result"
    }
   ],
   "source": [
    "is_ref = CCG.refract(clu, st[:,0])\n",
    "len(is_ref[0]), is_ref[0].sum()"
   ]
  },
  {
   "cell_type": "code",
   "execution_count": 11,
   "metadata": {},
   "outputs": [
    {
     "name": "stdout",
     "output_type": "stream",
     "text": [
      "0 1.0\n",
      "100 59.0\n",
      "200 111.0\n",
      "300 142.0\n",
      "400 186.0\n",
      "500 217.0\n",
      "600 263.0\n",
      "700 284.0\n",
      "741 285.0\n"
     ]
    },
    {
     "data": {
      "text/plain": [
       "(742, 285.0)"
      ]
     },
     "execution_count": 11,
     "metadata": {},
     "output_type": "execute_result"
    }
   ],
   "source": [
    "import CCG\n",
    "is_ref = CCG.refract(clu, st[:,0])\n",
    "\n",
    "len(is_ref[0]), is_ref[0].sum()"
   ]
  }
 ],
 "metadata": {
  "kernelspec": {
   "display_name": "Python 3 (ipykernel)",
   "language": "python",
   "name": "python3"
  },
  "language_info": {
   "codemirror_mode": {
    "name": "ipython",
    "version": 3
   },
   "file_extension": ".py",
   "mimetype": "text/x-python",
   "name": "python",
   "nbconvert_exporter": "python",
   "pygments_lexer": "ipython3",
   "version": "3.8.13"
  },
  "orig_nbformat": 4,
  "vscode": {
   "interpreter": {
    "hash": "dc0dcb2e1035a1eaeb79ee85a69484765f8dd01949d6a8096065977df5bad6a2"
   }
  }
 },
 "nbformat": 4,
 "nbformat_minor": 2
}
