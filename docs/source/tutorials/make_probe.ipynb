{
 "cells": [
  {
   "attachments": {},
   "cell_type": "markdown",
   "metadata": {},
   "source": [
    "# Creating a new probe file\n",
    "\n",
    "To create a new probe file, we can use `ProbeInterface`\n",
    "(a subpackage of `SpikeInterface`). If you haven't already, you will need to\n",
    "run `pip install spikeinterface[full]` to install the package. You will also\n",
    "need `matplotlib` if you want to visualize the probe geometry (recommended).\n",
    "\n",
    "First, we'll follow some steps from a `ProbeInterface` tutorial to create a \n",
    "custom Probe object, then we'll demonstrate how to export the Probe to a\n",
    "Kilosort4-compatible format."
   ]
  },
  {
   "attachments": {},
   "cell_type": "markdown",
   "metadata": {},
   "source": [
    "##### Generate a Probe from scratch\n",
    "from [probeinterface.readthedocs.io](https://probeinterface.readthedocs.io/en/main/examples/ex_01_generate_probe_from_sratch.html)"
   ]
  },
  {
   "attachments": {},
   "cell_type": "markdown",
   "metadata": {},
   "source": [
    "First, let’s create dummy positions for a 24-contact probe"
   ]
  },
  {
   "cell_type": "code",
   "execution_count": 1,
   "metadata": {},
   "outputs": [
    {
     "name": "stdout",
     "output_type": "stream",
     "text": [
      "[[  0.   0.]\n",
      " [  0.  20.]\n",
      " [  0.  40.]\n",
      " [  0.  60.]\n",
      " [  0.  80.]\n",
      " [  0. 100.]\n",
      " [  0. 120.]\n",
      " [  0. 140.]\n",
      " [ 20. -10.]\n",
      " [ 20.  10.]\n",
      " [ 20.  30.]\n",
      " [ 20.  50.]\n",
      " [ 20.  70.]\n",
      " [ 20.  90.]\n",
      " [ 20. 110.]\n",
      " [ 20. 130.]\n",
      " [ 40.   0.]\n",
      " [ 40.  20.]\n",
      " [ 40.  40.]\n",
      " [ 40.  60.]\n",
      " [ 40.  80.]\n",
      " [ 40. 100.]\n",
      " [ 40. 120.]\n",
      " [ 40. 140.]]\n"
     ]
    }
   ],
   "source": [
    "import numpy as np\n",
    "\n",
    "from probeinterface import Probe\n",
    "from probeinterface.plotting import plot_probe\n",
    "\n",
    "\n",
    "# Genenerate 3 columns of 8 contacts each, 20um apart vertically and horizontally\n",
    "n = 24\n",
    "positions = np.zeros((n, 2))\n",
    "for i in range(n):\n",
    "    x = i // 8\n",
    "    y = i % 8\n",
    "    positions[i] = x, y\n",
    "positions *= 20\n",
    "positions[8:16, 1] -= 10\n",
    "\n",
    "print(positions)"
   ]
  },
  {
   "attachments": {},
   "cell_type": "markdown",
   "metadata": {},
   "source": [
    "Now we can create a Probe object  and set the position and shape of each contact\n",
    "\n",
    "The ndim argument indicates that the contact is 2d, so the positions have a (n_elec, 2) shape.  We can also define a 3d probe with ndim=3 and positions will have a (n_elec, 3) shape.\n",
    "\n",
    "Note: shapes and shape_params could be arrays as well, indicating the shape for each contact separately."
   ]
  },
  {
   "cell_type": "code",
   "execution_count": 2,
   "metadata": {},
   "outputs": [],
   "source": [
    "probe = Probe(ndim=2, si_units='um')\n",
    "probe.set_contacts(positions=positions, shapes='circle', shape_params={'radius': 5})"
   ]
  },
  {
   "attachments": {},
   "cell_type": "markdown",
   "metadata": {},
   "source": [
    "In addition to contacts, we can create the planar contour (polygon) of the probe"
   ]
  },
  {
   "cell_type": "code",
   "execution_count": 3,
   "metadata": {},
   "outputs": [],
   "source": [
    "polygon = [(-20, -30), (20, -110), (60, -30), (60, 190), (-20, 190)]\n",
    "probe.set_planar_contour(polygon)"
   ]
  },
  {
   "attachments": {},
   "cell_type": "markdown",
   "metadata": {},
   "source": [
    "If `matplotlib` is installed, the Probe can be easily plotted:"
   ]
  },
  {
   "cell_type": "code",
   "execution_count": 4,
   "metadata": {},
   "outputs": [
    {
     "data": {
      "text/plain": [
       "(<matplotlib.collections.PolyCollection at 0x259ade41df0>,\n",
       " <matplotlib.collections.PolyCollection at 0x259adec15b0>)"
      ]
     },
     "execution_count": 4,
     "metadata": {},
     "output_type": "execute_result"
    },
    {
     "data": {
      "image/png": "[encoded data removed]",
      "text/plain": [
       "<Figure size 640x480 with 1 Axes>"
      ]
     },
     "metadata": {},
     "output_type": "display_data"
    }
   ],
   "source": [
    "plot_probe(probe)"
   ]
  },
  {
   "attachments": {},
   "cell_type": "markdown",
   "metadata": {},
   "source": [
    "##### Export probe information\n",
    "\n",
    "`ProbeInterface` supports a few different probe formats\n",
    "[(see documentation here)](https://probeinterface.readthedocs.io/en/main/examples/ex_06_import_export_to_file.html),\n",
    "but the relevant one for Kilosort compatibility is .prb. We can use the following\n",
    "steps to export the probe to that format, and then use it in Kilosort.\n"
   ]
  },
  {
   "cell_type": "code",
   "execution_count": 7,
   "metadata": {},
   "outputs": [],
   "source": [
    "from probeinterface import ProbeGroup, write_prb\n",
    "\n",
    "# Multiple probes can be added to a ProbeGroup. We only have one, but a\n",
    "# ProbeGroup wrapper is still necessary for `write_prb` to work.\n",
    "pg = ProbeGroup()\n",
    "pg.add_probe(probe)\n",
    "# Must set channel indices for .prb files.\n",
    "# Indicate \"not connected\" contacts with a value of -1.\n",
    "probe.set_device_channel_indices(np.arange(24))\n",
    "# CHANGE THIS PATH to wherever you want to save your probe file.\n",
    "write_prb('.../test_prb.prb', pg)   \n"
   ]
  },
  {
   "attachments": {},
   "cell_type": "markdown",
   "metadata": {},
   "source": [
    "Now Kilsort4 can load the probe file and extract the contact coordinates and other relevant information. There are two ways to provide this information when running Kilosort4:\n",
    "\n",
    "1. Specify the path to the probe file in the GUI.\n",
    "\n",
    "Or\n",
    "\n",
    "2. Load the probe using `kilosort.io.load_probe` and provide the resulting dictionary to `kilosort.run_kilosort` using the `probe` keyword argument (demonstrated below)."
   ]
  },
  {
   "cell_type": "code",
   "execution_count": 8,
   "metadata": {},
   "outputs": [
    {
     "name": "stdout",
     "output_type": "stream",
     "text": [
      "{'chanMap': array([ 0,  1,  2,  3,  4,  5,  6,  7,  8,  9, 10, 11, 12, 13, 14, 15, 16,\n",
      "       17, 18, 19, 20, 21, 22, 23]), 'xc': array([ 0.,  0.,  0.,  0.,  0.,  0.,  0.,  0., 20., 20., 20., 20., 20.,\n",
      "       20., 20., 20., 40., 40., 40., 40., 40., 40., 40., 40.],\n",
      "      dtype=float32), 'yc': array([  0.,  20.,  40.,  60.,  80., 100., 120., 140., -10.,  10.,  30.,\n",
      "        50.,  70.,  90., 110., 130.,   0.,  20.,  40.,  60.,  80., 100.,\n",
      "       120., 140.], dtype=float32), 'kcoords': array([0., 0., 0., 0., 0., 0., 0., 0., 0., 0., 0., 0., 0., 0., 0., 0., 0.,\n",
      "       0., 0., 0., 0., 0., 0., 0.], dtype=float32), 'n_chan': 24}\n"
     ]
    }
   ],
   "source": [
    "from kilosort.io import load_probe\n",
    "\n",
    "p = load_probe('.../test_prb.prb')\n",
    "print(p)"
   ]
  },
  {
   "cell_type": "code",
   "execution_count": null,
   "metadata": {},
   "outputs": [],
   "source": [
    "from kilosort import run_kilosort\n",
    "# Abreviated arguments, for demonstration only.\n",
    "results = run_kilosort(..., probe=p)"
   ]
  },
  {
   "cell_type": "markdown",
   "metadata": {},
   "source": []
  }
 ],
 "metadata": {
  "kernelspec": {
   "display_name": "kilosort",
   "language": "python",
   "name": "python3"
  },
  "language_info": {
   "codemirror_mode": {
    "name": "ipython",
    "version": 3
   },
   "file_extension": ".py",
   "mimetype": "text/x-python",
   "name": "python",
   "nbconvert_exporter": "python",
   "pygments_lexer": "ipython3",
   "version": "3.8.16"
  },
  "orig_nbformat": 4
 },
 "nbformat": 4,
 "nbformat_minor": 2
}
